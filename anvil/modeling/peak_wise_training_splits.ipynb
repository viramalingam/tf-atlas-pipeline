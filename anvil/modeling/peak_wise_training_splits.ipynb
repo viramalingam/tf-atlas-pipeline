{
 "cells": [
  {
   "cell_type": "code",
   "execution_count": 1,
   "metadata": {},
   "outputs": [],
   "source": [
    "from IPython.core.interactiveshell import InteractiveShell\n",
    "InteractiveShell.ast_node_interactivity = \"all\""
   ]
  },
  {
   "cell_type": "code",
   "execution_count": 8,
   "metadata": {},
   "outputs": [
    {
     "name": "stdout",
     "output_type": "stream",
     "text": [
      "Creating Splits\n"
     ]
    }
   ],
   "source": [
    "from itertools import count\n",
    "import json\n",
    "import argparse\n",
    "import os\n",
    "import random\n",
    "import pandas as pd\n",
    "import numpy as np\n",
    "import pyBigWig\n",
    "\n",
    "NARROWPEAK_SCHEMA = [\"chr\", \"start\", \"end\", \"1\", \"2\", \"3\", \"4\", \"5\", \"6\", \"summit\"]\n",
    "\n",
    "peak_regions_df = pd.read_csv(\"/mnt/lab_data2/vir/tf_chr_atlas/temp/docker_modelling/ENCSR142IGM_peaks_inliers.bed.gz\", sep='\\t', names=NARROWPEAK_SCHEMA)\n",
    "peak_regions_df['region']='peak'\n",
    "peak_regions_df['ind']=range(len(peak_regions_df))\n",
    "nonpeak_regions_df = pd.read_csv(\"/mnt/lab_data2/vir/tf_chr_atlas/temp/docker_modelling/ENCSR142IGM_gc_neg_only.bed.gz\", sep='\\t', names=NARROWPEAK_SCHEMA)\n",
    "nonpeak_regions_df['region']='nonpeak'\n",
    "nonpeak_regions_df['ind']=range(len(nonpeak_regions_df))\n",
    "\n",
    "\n",
    "all_regions_df = pd.concat([peak_regions_df,nonpeak_regions_df])\n",
    "all_regions_df['pos']=all_regions_df['start']+all_regions_df['summit']\n",
    "all_regions_df.sort_values(by=['chr', 'pos'], inplace=True)\n",
    "all_regions_df=all_regions_df.reset_index(drop=True)\n",
    "\n",
    "print(\"Creating Splits\")\n",
    "\n",
    "group_dict = {}\n",
    "\n",
    "inputlen=2114\n",
    "max_jitter=32\n",
    "\n",
    "cur_chrom = ''\n",
    "cur_group = ''\n",
    "last_pos = 0\n",
    "for index,row in all_regions_df.iterrows():\n",
    "    if cur_chrom != '':\n",
    "        if row['chr'] != cur_chrom:\n",
    "            cur_chrom = row['chr']\n",
    "            cur_group += 1\n",
    "            group_dict[cur_group] = [row]\n",
    "        else:\n",
    "            if row['pos'] <= int(last_pos) + int(inputlen) + int(2 * max_jitter):\n",
    "                group_dict[cur_group].append(row)\n",
    "            else:\n",
    "                cur_group += 1\n",
    "                group_dict[cur_group] = [row]\n",
    "    else:\n",
    "        cur_chrom = row['chr']\n",
    "        cur_group = 0\n",
    "        group_dict[cur_group] = [row]\n",
    "    last_pos = row['pos']\n",
    "    \n",
    "groups = []\n",
    "group_counts = []\n",
    "bigwig = '/mnt/lab_data2/vir/tf_chr_atlas/temp/docker_modelling/ENCSR142IGM_plus.bigWig'\n",
    "bw = pyBigWig.open(bigwig)\n",
    "\n",
    "for group in group_dict:\n",
    "    groups.append(group)\n",
    "    sum = 0\n",
    "    for element in group_dict[group]:\n",
    "        labels = bw.values(element['chr'], int(element['pos'] - (inputlen // 2)), int(element['pos'] + (inputlen // 2)))\n",
    "        labels = np.array(labels)\n",
    "        labels = np.nan_to_num(labels)\n",
    "        labels = np.sum(labels)\n",
    "        sum += labels\n",
    "    group_counts.append(sum)\n",
    "group_df = pd.DataFrame({'groups': groups, 'group_counts': group_counts})\n",
    "group_df = group_df.sort_values(by='group_counts').reset_index(drop=True)\n",
    "\n"
   ]
  },
  {
   "cell_type": "code",
   "execution_count": 9,
   "metadata": {},
   "outputs": [],
   "source": [
    "number_of_folds = 5"
   ]
  },
  {
   "cell_type": "code",
   "execution_count": 10,
   "metadata": {
    "tags": []
   },
   "outputs": [
    {
     "name": "stdout",
     "output_type": "stream",
     "text": [
      "val_chuncks: [0, 1, 2, 3, 4]\n",
      "test_chuncks: [1, 2, 3, 4, 0]\n",
      "        fold0  fold1  fold2  fold3  fold4\n",
      "0       valid  train  train  train   test\n",
      "1        test  valid  train  train  train\n",
      "2       train   test  valid  train  train\n",
      "3       train  train   test  valid  train\n",
      "4       train  train  train   test  valid\n",
      "...       ...    ...    ...    ...    ...\n",
      "213354  train  train  train   test  valid\n",
      "213355  valid  train  train  train   test\n",
      "213356   test  valid  train  train  train\n",
      "213357  train   test  valid  train  train\n",
      "213358  train  train   test  valid  train\n",
      "\n",
      "[213359 rows x 5 columns]\n",
      "fold: 0\n"
     ]
    },
    {
     "data": {
      "text/plain": [
       "0.5999981252255588"
      ]
     },
     "execution_count": 10,
     "metadata": {},
     "output_type": "execute_result"
    },
    {
     "data": {
      "text/plain": [
       "0.2000009373872206"
      ]
     },
     "execution_count": 10,
     "metadata": {},
     "output_type": "execute_result"
    },
    {
     "data": {
      "text/plain": [
       "0.2000009373872206"
      ]
     },
     "execution_count": 10,
     "metadata": {},
     "output_type": "execute_result"
    },
    {
     "name": "stdout",
     "output_type": "stream",
     "text": [
      "fold: 1\n"
     ]
    },
    {
     "data": {
      "text/plain": [
       "0.5999981252255588"
      ]
     },
     "execution_count": 10,
     "metadata": {},
     "output_type": "execute_result"
    },
    {
     "data": {
      "text/plain": [
       "0.2000009373872206"
      ]
     },
     "execution_count": 10,
     "metadata": {},
     "output_type": "execute_result"
    },
    {
     "data": {
      "text/plain": [
       "0.2000009373872206"
      ]
     },
     "execution_count": 10,
     "metadata": {},
     "output_type": "execute_result"
    },
    {
     "name": "stdout",
     "output_type": "stream",
     "text": [
      "fold: 2\n"
     ]
    },
    {
     "data": {
      "text/plain": [
       "0.5999981252255588"
      ]
     },
     "execution_count": 10,
     "metadata": {},
     "output_type": "execute_result"
    },
    {
     "data": {
      "text/plain": [
       "0.2000009373872206"
      ]
     },
     "execution_count": 10,
     "metadata": {},
     "output_type": "execute_result"
    },
    {
     "data": {
      "text/plain": [
       "0.2000009373872206"
      ]
     },
     "execution_count": 10,
     "metadata": {},
     "output_type": "execute_result"
    },
    {
     "name": "stdout",
     "output_type": "stream",
     "text": [
      "fold: 3\n"
     ]
    },
    {
     "data": {
      "text/plain": [
       "0.6000028121616618"
      ]
     },
     "execution_count": 10,
     "metadata": {},
     "output_type": "execute_result"
    },
    {
     "data": {
      "text/plain": [
       "0.1999962504511176"
      ]
     },
     "execution_count": 10,
     "metadata": {},
     "output_type": "execute_result"
    },
    {
     "data": {
      "text/plain": [
       "0.2000009373872206"
      ]
     },
     "execution_count": 10,
     "metadata": {},
     "output_type": "execute_result"
    },
    {
     "name": "stdout",
     "output_type": "stream",
     "text": [
      "fold: 4\n"
     ]
    },
    {
     "data": {
      "text/plain": [
       "0.6000028121616618"
      ]
     },
     "execution_count": 10,
     "metadata": {},
     "output_type": "execute_result"
    },
    {
     "data": {
      "text/plain": [
       "0.2000009373872206"
      ]
     },
     "execution_count": 10,
     "metadata": {},
     "output_type": "execute_result"
    },
    {
     "data": {
      "text/plain": [
       "0.1999962504511176"
      ]
     },
     "execution_count": 10,
     "metadata": {},
     "output_type": "execute_result"
    }
   ],
   "source": [
    "# split the data into x number of chuncks for x folds. allocate the chuncks to train, test, valid folds in unique ways\n",
    "# across folds\n",
    "chuncksets_dict={}\n",
    "for fold in range(number_of_folds):\n",
    "    chuncksets_dict[f\"chuncksets_{fold}\"]=list(range(fold,len(group_df),number_of_folds))\n",
    "    \n",
    "val_chuncks = list(range(0,number_of_folds))\n",
    "print(\"val_chuncks:\",val_chuncks)\n",
    "test_chuncks = list(range(1,number_of_folds))+[0]\n",
    "print(\"test_chuncks:\",test_chuncks)\n",
    "\n",
    "group_fold_df=pd.DataFrame(index=np.arange(len(group_df)))\n",
    "for fold in range(number_of_folds):\n",
    "    group_fold_df[f\"fold{fold}\"]='train'\n",
    "    group_fold_df[f\"fold{fold}\"][chuncksets_dict[f\"chuncksets_{val_chuncks[fold]}\"]] = 'valid'\n",
    "    group_fold_df[f\"fold{fold}\"][chuncksets_dict[f\"chuncksets_{test_chuncks[fold]}\"]] = 'test'\n",
    "print(group_fold_df)\n",
    "\n",
    "for fold in range(number_of_folds):\n",
    "    print(\"fold:\",fold)\n",
    "    len(group_fold_df[group_fold_df[f\"fold{fold}\"]==\"train\"])/len(group_fold_df)\n",
    "\n",
    "    len(group_fold_df[group_fold_df[f\"fold{fold}\"]==\"test\"])/len(group_fold_df)\n",
    "\n",
    "    len(group_fold_df[group_fold_df[f\"fold{fold}\"]==\"valid\"])/len(group_fold_df)\n",
    "\n"
   ]
  },
  {
   "cell_type": "code",
   "execution_count": 31,
   "metadata": {},
   "outputs": [
    {
     "data": {
      "text/html": [
       "<div>\n",
       "<style scoped>\n",
       "    .dataframe tbody tr th:only-of-type {\n",
       "        vertical-align: middle;\n",
       "    }\n",
       "\n",
       "    .dataframe tbody tr th {\n",
       "        vertical-align: top;\n",
       "    }\n",
       "\n",
       "    .dataframe thead th {\n",
       "        text-align: right;\n",
       "    }\n",
       "</style>\n",
       "<table border=\"1\" class=\"dataframe\">\n",
       "  <thead>\n",
       "    <tr style=\"text-align: right;\">\n",
       "      <th></th>\n",
       "      <th>chr</th>\n",
       "      <th>start</th>\n",
       "      <th>end</th>\n",
       "      <th>1</th>\n",
       "      <th>2</th>\n",
       "      <th>3</th>\n",
       "      <th>4</th>\n",
       "      <th>5</th>\n",
       "      <th>6</th>\n",
       "      <th>summit</th>\n",
       "      <th>pos</th>\n",
       "    </tr>\n",
       "  </thead>\n",
       "  <tbody>\n",
       "    <tr>\n",
       "      <th>1334</th>\n",
       "      <td>chr7</td>\n",
       "      <td>75228599</td>\n",
       "      <td>75230777</td>\n",
       "      <td>.</td>\n",
       "      <td>1.0</td>\n",
       "      <td>.</td>\n",
       "      <td>36.85567</td>\n",
       "      <td>-1.0</td>\n",
       "      <td>5.19781</td>\n",
       "      <td>152</td>\n",
       "      <td>75229688</td>\n",
       "    </tr>\n",
       "    <tr>\n",
       "      <th>9</th>\n",
       "      <td>chr2</td>\n",
       "      <td>110250636</td>\n",
       "      <td>110252814</td>\n",
       "      <td>.</td>\n",
       "      <td>1.0</td>\n",
       "      <td>.</td>\n",
       "      <td>26.82164</td>\n",
       "      <td>-1.0</td>\n",
       "      <td>5.19781</td>\n",
       "      <td>152</td>\n",
       "      <td>110251725</td>\n",
       "    </tr>\n",
       "    <tr>\n",
       "      <th>37</th>\n",
       "      <td>chrX</td>\n",
       "      <td>32867572</td>\n",
       "      <td>32869750</td>\n",
       "      <td>.</td>\n",
       "      <td>1.0</td>\n",
       "      <td>.</td>\n",
       "      <td>29.43084</td>\n",
       "      <td>-1.0</td>\n",
       "      <td>5.19781</td>\n",
       "      <td>152</td>\n",
       "      <td>32868661</td>\n",
       "    </tr>\n",
       "    <tr>\n",
       "      <th>627</th>\n",
       "      <td>chr16</td>\n",
       "      <td>16250525</td>\n",
       "      <td>16252703</td>\n",
       "      <td>.</td>\n",
       "      <td>1.0</td>\n",
       "      <td>.</td>\n",
       "      <td>33.14505</td>\n",
       "      <td>-1.0</td>\n",
       "      <td>5.19781</td>\n",
       "      <td>152</td>\n",
       "      <td>16251614</td>\n",
       "    </tr>\n",
       "    <tr>\n",
       "      <th>1326</th>\n",
       "      <td>chrX</td>\n",
       "      <td>27521799</td>\n",
       "      <td>27523977</td>\n",
       "      <td>.</td>\n",
       "      <td>1.0</td>\n",
       "      <td>.</td>\n",
       "      <td>24.75781</td>\n",
       "      <td>-1.0</td>\n",
       "      <td>5.19781</td>\n",
       "      <td>152</td>\n",
       "      <td>27522888</td>\n",
       "    </tr>\n",
       "    <tr>\n",
       "      <th>...</th>\n",
       "      <td>...</td>\n",
       "      <td>...</td>\n",
       "      <td>...</td>\n",
       "      <td>...</td>\n",
       "      <td>...</td>\n",
       "      <td>...</td>\n",
       "      <td>...</td>\n",
       "      <td>...</td>\n",
       "      <td>...</td>\n",
       "      <td>...</td>\n",
       "      <td>...</td>\n",
       "    </tr>\n",
       "    <tr>\n",
       "      <th>57136</th>\n",
       "      <td>chr20</td>\n",
       "      <td>22523198</td>\n",
       "      <td>22525376</td>\n",
       "      <td>.</td>\n",
       "      <td>1.0</td>\n",
       "      <td>.</td>\n",
       "      <td>285.81033</td>\n",
       "      <td>-1.0</td>\n",
       "      <td>5.19781</td>\n",
       "      <td>172</td>\n",
       "      <td>22524287</td>\n",
       "    </tr>\n",
       "    <tr>\n",
       "      <th>56949</th>\n",
       "      <td>chr20</td>\n",
       "      <td>22523404</td>\n",
       "      <td>22525582</td>\n",
       "      <td>.</td>\n",
       "      <td>1.0</td>\n",
       "      <td>.</td>\n",
       "      <td>24.30614</td>\n",
       "      <td>-1.0</td>\n",
       "      <td>5.19781</td>\n",
       "      <td>378</td>\n",
       "      <td>22524493</td>\n",
       "    </tr>\n",
       "    <tr>\n",
       "      <th>57418</th>\n",
       "      <td>chr20</td>\n",
       "      <td>22524110</td>\n",
       "      <td>22526288</td>\n",
       "      <td>.</td>\n",
       "      <td>1.0</td>\n",
       "      <td>.</td>\n",
       "      <td>319.52598</td>\n",
       "      <td>-1.0</td>\n",
       "      <td>5.19781</td>\n",
       "      <td>150</td>\n",
       "      <td>22525199</td>\n",
       "    </tr>\n",
       "    <tr>\n",
       "      <th>52029</th>\n",
       "      <td>chr2</td>\n",
       "      <td>161158933</td>\n",
       "      <td>161161111</td>\n",
       "      <td>.</td>\n",
       "      <td>1.0</td>\n",
       "      <td>.</td>\n",
       "      <td>42.72515</td>\n",
       "      <td>-1.0</td>\n",
       "      <td>5.19781</td>\n",
       "      <td>55</td>\n",
       "      <td>161160022</td>\n",
       "    </tr>\n",
       "    <tr>\n",
       "      <th>57771</th>\n",
       "      <td>chr2</td>\n",
       "      <td>161159329</td>\n",
       "      <td>161161507</td>\n",
       "      <td>.</td>\n",
       "      <td>1.0</td>\n",
       "      <td>.</td>\n",
       "      <td>24.51626</td>\n",
       "      <td>-1.0</td>\n",
       "      <td>5.19781</td>\n",
       "      <td>84</td>\n",
       "      <td>161160418</td>\n",
       "    </tr>\n",
       "  </tbody>\n",
       "</table>\n",
       "<p>11586 rows × 11 columns</p>\n",
       "</div>"
      ],
      "text/plain": [
       "         chr      start        end  1    2  3          4    5        6  \\\n",
       "1334    chr7   75228599   75230777  .  1.0  .   36.85567 -1.0  5.19781   \n",
       "9       chr2  110250636  110252814  .  1.0  .   26.82164 -1.0  5.19781   \n",
       "37      chrX   32867572   32869750  .  1.0  .   29.43084 -1.0  5.19781   \n",
       "627    chr16   16250525   16252703  .  1.0  .   33.14505 -1.0  5.19781   \n",
       "1326    chrX   27521799   27523977  .  1.0  .   24.75781 -1.0  5.19781   \n",
       "...      ...        ...        ... ..  ... ..        ...  ...      ...   \n",
       "57136  chr20   22523198   22525376  .  1.0  .  285.81033 -1.0  5.19781   \n",
       "56949  chr20   22523404   22525582  .  1.0  .   24.30614 -1.0  5.19781   \n",
       "57418  chr20   22524110   22526288  .  1.0  .  319.52598 -1.0  5.19781   \n",
       "52029   chr2  161158933  161161111  .  1.0  .   42.72515 -1.0  5.19781   \n",
       "57771   chr2  161159329  161161507  .  1.0  .   24.51626 -1.0  5.19781   \n",
       "\n",
       "       summit        pos  \n",
       "1334      152   75229688  \n",
       "9         152  110251725  \n",
       "37        152   32868661  \n",
       "627       152   16251614  \n",
       "1326      152   27522888  \n",
       "...       ...        ...  \n",
       "57136     172   22524287  \n",
       "56949     378   22524493  \n",
       "57418     150   22525199  \n",
       "52029      55  161160022  \n",
       "57771      84  161160418  \n",
       "\n",
       "[11586 rows x 11 columns]"
      ]
     },
     "execution_count": 31,
     "metadata": {},
     "output_type": "execute_result"
    },
    {
     "data": {
      "text/html": [
       "<div>\n",
       "<style scoped>\n",
       "    .dataframe tbody tr th:only-of-type {\n",
       "        vertical-align: middle;\n",
       "    }\n",
       "\n",
       "    .dataframe tbody tr th {\n",
       "        vertical-align: top;\n",
       "    }\n",
       "\n",
       "    .dataframe thead th {\n",
       "        text-align: right;\n",
       "    }\n",
       "</style>\n",
       "<table border=\"1\" class=\"dataframe\">\n",
       "  <thead>\n",
       "    <tr style=\"text-align: right;\">\n",
       "      <th></th>\n",
       "      <th>chr</th>\n",
       "      <th>start</th>\n",
       "      <th>end</th>\n",
       "      <th>1</th>\n",
       "      <th>2</th>\n",
       "      <th>3</th>\n",
       "      <th>4</th>\n",
       "      <th>5</th>\n",
       "      <th>6</th>\n",
       "      <th>summit</th>\n",
       "    </tr>\n",
       "  </thead>\n",
       "  <tbody>\n",
       "    <tr>\n",
       "      <th>1334</th>\n",
       "      <td>chr7</td>\n",
       "      <td>75229536</td>\n",
       "      <td>75229840</td>\n",
       "      <td>.</td>\n",
       "      <td>1.0</td>\n",
       "      <td>.</td>\n",
       "      <td>36.85567</td>\n",
       "      <td>-1.0</td>\n",
       "      <td>5.19781</td>\n",
       "      <td>152</td>\n",
       "    </tr>\n",
       "    <tr>\n",
       "      <th>9</th>\n",
       "      <td>chr2</td>\n",
       "      <td>110251573</td>\n",
       "      <td>110251877</td>\n",
       "      <td>.</td>\n",
       "      <td>1.0</td>\n",
       "      <td>.</td>\n",
       "      <td>26.82164</td>\n",
       "      <td>-1.0</td>\n",
       "      <td>5.19781</td>\n",
       "      <td>152</td>\n",
       "    </tr>\n",
       "    <tr>\n",
       "      <th>37</th>\n",
       "      <td>chrX</td>\n",
       "      <td>32868509</td>\n",
       "      <td>32868813</td>\n",
       "      <td>.</td>\n",
       "      <td>1.0</td>\n",
       "      <td>.</td>\n",
       "      <td>29.43084</td>\n",
       "      <td>-1.0</td>\n",
       "      <td>5.19781</td>\n",
       "      <td>152</td>\n",
       "    </tr>\n",
       "    <tr>\n",
       "      <th>627</th>\n",
       "      <td>chr16</td>\n",
       "      <td>16251462</td>\n",
       "      <td>16251766</td>\n",
       "      <td>.</td>\n",
       "      <td>1.0</td>\n",
       "      <td>.</td>\n",
       "      <td>33.14505</td>\n",
       "      <td>-1.0</td>\n",
       "      <td>5.19781</td>\n",
       "      <td>152</td>\n",
       "    </tr>\n",
       "    <tr>\n",
       "      <th>1326</th>\n",
       "      <td>chrX</td>\n",
       "      <td>27522736</td>\n",
       "      <td>27523040</td>\n",
       "      <td>.</td>\n",
       "      <td>1.0</td>\n",
       "      <td>.</td>\n",
       "      <td>24.75781</td>\n",
       "      <td>-1.0</td>\n",
       "      <td>5.19781</td>\n",
       "      <td>152</td>\n",
       "    </tr>\n",
       "    <tr>\n",
       "      <th>...</th>\n",
       "      <td>...</td>\n",
       "      <td>...</td>\n",
       "      <td>...</td>\n",
       "      <td>...</td>\n",
       "      <td>...</td>\n",
       "      <td>...</td>\n",
       "      <td>...</td>\n",
       "      <td>...</td>\n",
       "      <td>...</td>\n",
       "      <td>...</td>\n",
       "    </tr>\n",
       "    <tr>\n",
       "      <th>57136</th>\n",
       "      <td>chr20</td>\n",
       "      <td>22524115</td>\n",
       "      <td>22524583</td>\n",
       "      <td>.</td>\n",
       "      <td>1.0</td>\n",
       "      <td>.</td>\n",
       "      <td>285.81033</td>\n",
       "      <td>-1.0</td>\n",
       "      <td>5.19781</td>\n",
       "      <td>172</td>\n",
       "    </tr>\n",
       "    <tr>\n",
       "      <th>56949</th>\n",
       "      <td>chr20</td>\n",
       "      <td>22524115</td>\n",
       "      <td>22524583</td>\n",
       "      <td>.</td>\n",
       "      <td>1.0</td>\n",
       "      <td>.</td>\n",
       "      <td>24.30614</td>\n",
       "      <td>-1.0</td>\n",
       "      <td>5.19781</td>\n",
       "      <td>378</td>\n",
       "    </tr>\n",
       "    <tr>\n",
       "      <th>57418</th>\n",
       "      <td>chr20</td>\n",
       "      <td>22525049</td>\n",
       "      <td>22525399</td>\n",
       "      <td>.</td>\n",
       "      <td>1.0</td>\n",
       "      <td>.</td>\n",
       "      <td>319.52598</td>\n",
       "      <td>-1.0</td>\n",
       "      <td>5.19781</td>\n",
       "      <td>150</td>\n",
       "    </tr>\n",
       "    <tr>\n",
       "      <th>52029</th>\n",
       "      <td>chr2</td>\n",
       "      <td>161159967</td>\n",
       "      <td>161160194</td>\n",
       "      <td>.</td>\n",
       "      <td>1.0</td>\n",
       "      <td>.</td>\n",
       "      <td>42.72515</td>\n",
       "      <td>-1.0</td>\n",
       "      <td>5.19781</td>\n",
       "      <td>55</td>\n",
       "    </tr>\n",
       "    <tr>\n",
       "      <th>57771</th>\n",
       "      <td>chr2</td>\n",
       "      <td>161160334</td>\n",
       "      <td>161160487</td>\n",
       "      <td>.</td>\n",
       "      <td>1.0</td>\n",
       "      <td>.</td>\n",
       "      <td>24.51626</td>\n",
       "      <td>-1.0</td>\n",
       "      <td>5.19781</td>\n",
       "      <td>84</td>\n",
       "    </tr>\n",
       "  </tbody>\n",
       "</table>\n",
       "<p>11586 rows × 10 columns</p>\n",
       "</div>"
      ],
      "text/plain": [
       "         chr      start        end  1    2  3          4    5        6  summit\n",
       "1334    chr7   75229536   75229840  .  1.0  .   36.85567 -1.0  5.19781     152\n",
       "9       chr2  110251573  110251877  .  1.0  .   26.82164 -1.0  5.19781     152\n",
       "37      chrX   32868509   32868813  .  1.0  .   29.43084 -1.0  5.19781     152\n",
       "627    chr16   16251462   16251766  .  1.0  .   33.14505 -1.0  5.19781     152\n",
       "1326    chrX   27522736   27523040  .  1.0  .   24.75781 -1.0  5.19781     152\n",
       "...      ...        ...        ... ..  ... ..        ...  ...      ...     ...\n",
       "57136  chr20   22524115   22524583  .  1.0  .  285.81033 -1.0  5.19781     172\n",
       "56949  chr20   22524115   22524583  .  1.0  .   24.30614 -1.0  5.19781     378\n",
       "57418  chr20   22525049   22525399  .  1.0  .  319.52598 -1.0  5.19781     150\n",
       "52029   chr2  161159967  161160194  .  1.0  .   42.72515 -1.0  5.19781      55\n",
       "57771   chr2  161160334  161160487  .  1.0  .   24.51626 -1.0  5.19781      84\n",
       "\n",
       "[11586 rows x 10 columns]"
      ]
     },
     "execution_count": 31,
     "metadata": {},
     "output_type": "execute_result"
    }
   ],
   "source": [
    "peak_regions_slice_df\n",
    "peak_regions_df.iloc[peak_indices,0:10]"
   ]
  },
  {
   "cell_type": "code",
   "execution_count": 32,
   "metadata": {},
   "outputs": [
    {
     "data": {
      "text/plain": [
       "1089"
      ]
     },
     "execution_count": 32,
     "metadata": {},
     "output_type": "execute_result"
    },
    {
     "data": {
      "text/plain": [
       "75229688"
      ]
     },
     "execution_count": 32,
     "metadata": {},
     "output_type": "execute_result"
    }
   ],
   "source": [
    "75229688-75228599\n",
    "75229536+152"
   ]
  },
  {
   "cell_type": "code",
   "execution_count": 42,
   "metadata": {
    "tags": []
   },
   "outputs": [
    {
     "data": {
      "text/html": [
       "<div>\n",
       "<style scoped>\n",
       "    .dataframe tbody tr th:only-of-type {\n",
       "        vertical-align: middle;\n",
       "    }\n",
       "\n",
       "    .dataframe tbody tr th {\n",
       "        vertical-align: top;\n",
       "    }\n",
       "\n",
       "    .dataframe thead th {\n",
       "        text-align: right;\n",
       "    }\n",
       "</style>\n",
       "<table border=\"1\" class=\"dataframe\">\n",
       "  <thead>\n",
       "    <tr style=\"text-align: right;\">\n",
       "      <th></th>\n",
       "      <th>groups</th>\n",
       "      <th>group_counts</th>\n",
       "      <th>fold0</th>\n",
       "      <th>fold1</th>\n",
       "      <th>fold2</th>\n",
       "      <th>fold3</th>\n",
       "      <th>fold4</th>\n",
       "      <th>log_groupcounts</th>\n",
       "    </tr>\n",
       "  </thead>\n",
       "  <tbody>\n",
       "    <tr>\n",
       "      <th>0</th>\n",
       "      <td>164291</td>\n",
       "      <td>0.0</td>\n",
       "      <td>valid</td>\n",
       "      <td>train</td>\n",
       "      <td>train</td>\n",
       "      <td>train</td>\n",
       "      <td>test</td>\n",
       "      <td>0.000000</td>\n",
       "    </tr>\n",
       "    <tr>\n",
       "      <th>1</th>\n",
       "      <td>127077</td>\n",
       "      <td>0.0</td>\n",
       "      <td>test</td>\n",
       "      <td>valid</td>\n",
       "      <td>train</td>\n",
       "      <td>train</td>\n",
       "      <td>train</td>\n",
       "      <td>0.000000</td>\n",
       "    </tr>\n",
       "    <tr>\n",
       "      <th>2</th>\n",
       "      <td>150211</td>\n",
       "      <td>0.0</td>\n",
       "      <td>train</td>\n",
       "      <td>test</td>\n",
       "      <td>valid</td>\n",
       "      <td>train</td>\n",
       "      <td>train</td>\n",
       "      <td>0.000000</td>\n",
       "    </tr>\n",
       "    <tr>\n",
       "      <th>3</th>\n",
       "      <td>205607</td>\n",
       "      <td>0.0</td>\n",
       "      <td>train</td>\n",
       "      <td>train</td>\n",
       "      <td>test</td>\n",
       "      <td>valid</td>\n",
       "      <td>train</td>\n",
       "      <td>0.000000</td>\n",
       "    </tr>\n",
       "    <tr>\n",
       "      <th>4</th>\n",
       "      <td>205606</td>\n",
       "      <td>0.0</td>\n",
       "      <td>train</td>\n",
       "      <td>train</td>\n",
       "      <td>train</td>\n",
       "      <td>test</td>\n",
       "      <td>valid</td>\n",
       "      <td>0.000000</td>\n",
       "    </tr>\n",
       "    <tr>\n",
       "      <th>...</th>\n",
       "      <td>...</td>\n",
       "      <td>...</td>\n",
       "      <td>...</td>\n",
       "      <td>...</td>\n",
       "      <td>...</td>\n",
       "      <td>...</td>\n",
       "      <td>...</td>\n",
       "      <td>...</td>\n",
       "    </tr>\n",
       "    <tr>\n",
       "      <th>213354</th>\n",
       "      <td>45877</td>\n",
       "      <td>5272.0</td>\n",
       "      <td>train</td>\n",
       "      <td>train</td>\n",
       "      <td>train</td>\n",
       "      <td>test</td>\n",
       "      <td>valid</td>\n",
       "      <td>3.722058</td>\n",
       "    </tr>\n",
       "    <tr>\n",
       "      <th>213355</th>\n",
       "      <td>101000</td>\n",
       "      <td>5402.0</td>\n",
       "      <td>valid</td>\n",
       "      <td>train</td>\n",
       "      <td>train</td>\n",
       "      <td>train</td>\n",
       "      <td>test</td>\n",
       "      <td>3.732635</td>\n",
       "    </tr>\n",
       "    <tr>\n",
       "      <th>213356</th>\n",
       "      <td>46663</td>\n",
       "      <td>5468.0</td>\n",
       "      <td>test</td>\n",
       "      <td>valid</td>\n",
       "      <td>train</td>\n",
       "      <td>train</td>\n",
       "      <td>train</td>\n",
       "      <td>3.737908</td>\n",
       "    </tr>\n",
       "    <tr>\n",
       "      <th>213357</th>\n",
       "      <td>76680</td>\n",
       "      <td>7740.0</td>\n",
       "      <td>train</td>\n",
       "      <td>test</td>\n",
       "      <td>valid</td>\n",
       "      <td>train</td>\n",
       "      <td>train</td>\n",
       "      <td>3.888797</td>\n",
       "    </tr>\n",
       "    <tr>\n",
       "      <th>213358</th>\n",
       "      <td>201990</td>\n",
       "      <td>8378.0</td>\n",
       "      <td>train</td>\n",
       "      <td>train</td>\n",
       "      <td>test</td>\n",
       "      <td>valid</td>\n",
       "      <td>train</td>\n",
       "      <td>3.923192</td>\n",
       "    </tr>\n",
       "  </tbody>\n",
       "</table>\n",
       "<p>213359 rows × 8 columns</p>\n",
       "</div>"
      ],
      "text/plain": [
       "        groups  group_counts  fold0  fold1  fold2  fold3  fold4  \\\n",
       "0       164291           0.0  valid  train  train  train   test   \n",
       "1       127077           0.0   test  valid  train  train  train   \n",
       "2       150211           0.0  train   test  valid  train  train   \n",
       "3       205607           0.0  train  train   test  valid  train   \n",
       "4       205606           0.0  train  train  train   test  valid   \n",
       "...        ...           ...    ...    ...    ...    ...    ...   \n",
       "213354   45877        5272.0  train  train  train   test  valid   \n",
       "213355  101000        5402.0  valid  train  train  train   test   \n",
       "213356   46663        5468.0   test  valid  train  train  train   \n",
       "213357   76680        7740.0  train   test  valid  train  train   \n",
       "213358  201990        8378.0  train  train   test  valid  train   \n",
       "\n",
       "        log_groupcounts  \n",
       "0              0.000000  \n",
       "1              0.000000  \n",
       "2              0.000000  \n",
       "3              0.000000  \n",
       "4              0.000000  \n",
       "...                 ...  \n",
       "213354         3.722058  \n",
       "213355         3.732635  \n",
       "213356         3.737908  \n",
       "213357         3.888797  \n",
       "213358         3.923192  \n",
       "\n",
       "[213359 rows x 8 columns]"
      ]
     },
     "execution_count": 42,
     "metadata": {},
     "output_type": "execute_result"
    },
    {
     "name": "stdout",
     "output_type": "stream",
     "text": [
      "Saving Splits\n",
      "fold: 0\n",
      "split: valid\n",
      "proportion of peaks: 0.19959687839164814\n",
      "proportion of nonpeaks: 0.2004384894223639\n",
      "split: train\n",
      "proportion of peaks: 0.5998415077437249\n",
      "proportion of nonpeaks: 0.5994500458295142\n",
      "split: test\n",
      "proportion of peaks: 0.20056161386462695\n",
      "proportion of nonpeaks: 0.20011146474812191\n",
      "\n",
      "\n",
      "fold: 1\n",
      "split: valid\n",
      "proportion of peaks: 0.20056161386462695\n",
      "proportion of nonpeaks: 0.20011146474812191\n",
      "split: train\n",
      "proportion of peaks: 0.5994625045221975\n",
      "proportion of nonpeaks: 0.600127125084635\n",
      "split: test\n",
      "proportion of peaks: 0.19997588161317553\n",
      "proportion of nonpeaks: 0.1997614101672432\n",
      "\n",
      "\n",
      "fold: 2\n",
      "split: valid\n",
      "proportion of peaks: 0.19997588161317553\n",
      "proportion of nonpeaks: 0.1997614101672432\n",
      "split: train\n",
      "proportion of peaks: 0.6005306045101383\n",
      "proportion of nonpeaks: 0.600140943028617\n",
      "split: test\n",
      "proportion of peaks: 0.19949351387668612\n",
      "proportion of nonpeaks: 0.20009764680413986\n",
      "\n",
      "\n",
      "fold: 3\n",
      "split: valid\n",
      "proportion of peaks: 0.19949351387668612\n",
      "proportion of nonpeaks: 0.20009764680413986\n",
      "split: train\n",
      "proportion of peaks: 0.6001343738694506\n",
      "proportion of nonpeaks: 0.600311364337729\n",
      "split: test\n",
      "proportion of peaks: 0.20037211225386325\n",
      "proportion of nonpeaks: 0.19959098885813117\n",
      "\n",
      "\n",
      "fold: 4\n",
      "split: valid\n",
      "proportion of peaks: 0.20037211225386325\n",
      "proportion of nonpeaks: 0.19959098885813117\n",
      "split: train\n",
      "proportion of peaks: 0.6000310093544886\n",
      "proportion of nonpeaks: 0.5999705217195049\n",
      "split: test\n",
      "proportion of peaks: 0.19959687839164814\n",
      "proportion of nonpeaks: 0.2004384894223639\n",
      "\n",
      "\n",
      "fold: 0\n"
     ]
    },
    {
     "name": "stderr",
     "output_type": "stream",
     "text": [
      "/users/vir/anaconda3/envs/basepairmodels_latest/lib/python3.7/site-packages/plotnine/ggplot.py:721: PlotnineWarning: Saving 6.4 x 4.8 in image.\n",
      "/users/vir/anaconda3/envs/basepairmodels_latest/lib/python3.7/site-packages/plotnine/ggplot.py:722: PlotnineWarning: Filename: fold0_counts_histogram_plot.png\n"
     ]
    },
    {
     "name": "stdout",
     "output_type": "stream",
     "text": [
      "fold: 1\n"
     ]
    },
    {
     "name": "stderr",
     "output_type": "stream",
     "text": [
      "/users/vir/anaconda3/envs/basepairmodels_latest/lib/python3.7/site-packages/plotnine/ggplot.py:721: PlotnineWarning: Saving 6.4 x 4.8 in image.\n",
      "/users/vir/anaconda3/envs/basepairmodels_latest/lib/python3.7/site-packages/plotnine/ggplot.py:722: PlotnineWarning: Filename: fold1_counts_histogram_plot.png\n"
     ]
    },
    {
     "name": "stdout",
     "output_type": "stream",
     "text": [
      "fold: 2\n"
     ]
    },
    {
     "name": "stderr",
     "output_type": "stream",
     "text": [
      "/users/vir/anaconda3/envs/basepairmodels_latest/lib/python3.7/site-packages/plotnine/ggplot.py:721: PlotnineWarning: Saving 6.4 x 4.8 in image.\n",
      "/users/vir/anaconda3/envs/basepairmodels_latest/lib/python3.7/site-packages/plotnine/ggplot.py:722: PlotnineWarning: Filename: fold2_counts_histogram_plot.png\n"
     ]
    },
    {
     "name": "stdout",
     "output_type": "stream",
     "text": [
      "fold: 3\n"
     ]
    },
    {
     "name": "stderr",
     "output_type": "stream",
     "text": [
      "/users/vir/anaconda3/envs/basepairmodels_latest/lib/python3.7/site-packages/plotnine/ggplot.py:721: PlotnineWarning: Saving 6.4 x 4.8 in image.\n",
      "/users/vir/anaconda3/envs/basepairmodels_latest/lib/python3.7/site-packages/plotnine/ggplot.py:722: PlotnineWarning: Filename: fold3_counts_histogram_plot.png\n"
     ]
    },
    {
     "name": "stdout",
     "output_type": "stream",
     "text": [
      "fold: 4\n"
     ]
    },
    {
     "name": "stderr",
     "output_type": "stream",
     "text": [
      "/users/vir/anaconda3/envs/basepairmodels_latest/lib/python3.7/site-packages/plotnine/ggplot.py:721: PlotnineWarning: Saving 6.4 x 4.8 in image.\n",
      "/users/vir/anaconda3/envs/basepairmodels_latest/lib/python3.7/site-packages/plotnine/ggplot.py:722: PlotnineWarning: Filename: fold4_counts_histogram_plot.png\n"
     ]
    }
   ],
   "source": [
    "# group_fold_dict = {}\n",
    "# for fold in range(number_of_folds):\n",
    "#     group_fold_dict[f\"fold{fold}\"]=[]\n",
    "\n",
    "# count = 0\n",
    "# valid_used = []\n",
    "\n",
    "\n",
    "\n",
    "# for index,row in group_df.iterrows():\n",
    "#     if index % 10000 == 0:\n",
    "#         print(index)\n",
    "#     if count % 2 == 0:\n",
    "#         test_or_valid = 'valid'\n",
    "#     else:\n",
    "#         test_or_valid = 'test'\n",
    "#     test_or_valid_fold = random.choice([i for i in range(number_of_folds) if i not in valid_used])\n",
    "#     for fold in range(number_of_folds):\n",
    "#         if fold != test_or_valid_fold:\n",
    "#             group_fold_dict[f\"fold{fold}\"].append('train')\n",
    "#         else:\n",
    "#             group_fold_dict[f\"fold{fold}\"].append(test_or_valid)\n",
    "#     count += 1\n",
    "#     valid_used.append(test_or_valid_fold)\n",
    "#     if len(valid_used) == number_of_folds:\n",
    "#         valid_used = []\n",
    "\n",
    "\n",
    "for fold in range(number_of_folds):\n",
    "    group_df['fold' + str(fold)] = group_fold_df['fold' + str(fold)]\n",
    "    \n",
    "group_df\n",
    "output_path =\".\"\n",
    "print(\"Saving Splits\")\n",
    "for fold in range(number_of_folds):\n",
    "    print(\"fold:\",fold)\n",
    "    for split in ['valid','train','test']:\n",
    "        temp_lst = [group_dict.get(key) for key in group_df['groups'][group_df[f\"fold{fold}\"]==split]] \n",
    "        peak_indices = [i['ind'] for b in map(lambda x:[x] if not isinstance(x, list) else x, temp_lst) for i in b if i['region']=='peak']\n",
    "        nonpeak_indices = [i['ind'] for b in map(lambda x:[x] if not isinstance(x, list) else x, temp_lst) for i in b if i['region']=='nonpeak']\n",
    "        print(\"split:\",split)\n",
    "        print(\"proportion of peaks:\",len(peak_indices)/len(peak_regions_df))\n",
    "        print(\"proportion of nonpeaks:\",len(nonpeak_indices)/len(nonpeak_regions_df))\n",
    "        \n",
    "        # f = open(f\"{output_path}/loci_{split}_indices_fold{fold}.txt\", \"w\")\n",
    "        # for items in peak_indices:\n",
    "        #     f.writelines(str(items)+'\\n')\n",
    "        # f.close()\n",
    "        # f = open(f\"{output_path}/background_{split}_indices_fold{fold}.txt\", \"w\")\n",
    "        # for items in nonpeak_indices:\n",
    "        #     f.writelines(str(items)+'\\n')\n",
    "        # f.close()\n",
    "        nonpeak_regions_slice_df = nonpeak_regions_df.iloc[nonpeak_indices,0:10]\n",
    "        nonpeak_regions_slice_df['pos']=nonpeak_regions_slice_df['start']+nonpeak_regions_slice_df['summit']\n",
    "        nonpeak_regions_slice_df['start']=nonpeak_regions_slice_df['pos']- int(inputlen//2) - int(max_jitter)\n",
    "        nonpeak_regions_slice_df['end']=nonpeak_regions_slice_df['pos']+ int(inputlen//2) + int(max_jitter)\n",
    "        nonpeak_regions_slice_df = nonpeak_regions_slice_df[nonpeak_regions_slice_df['start']>=0]\n",
    "        \n",
    "        peak_regions_slice_df = peak_regions_df.iloc[peak_indices,0:10]\n",
    "        peak_regions_slice_df['pos']=peak_regions_slice_df['start']+peak_regions_slice_df['summit']\n",
    "        peak_regions_slice_df['start']=peak_regions_slice_df['pos']- int(inputlen//2) - int(max_jitter)\n",
    "        peak_regions_slice_df['end']=peak_regions_slice_df['pos']+ int(inputlen//2) + int(max_jitter)\n",
    "        peak_regions_slice_df = peak_regions_slice_df[peak_regions_slice_df['start']>=0]\n",
    "        \n",
    "        nonpeak_regions_slice_df.iloc[:,0:10].to_csv(f\"{output_path}/background_peaks_{split}_fold{fold}.bed\",sep=\"\\t\",header=False,index=False)\n",
    "        peak_regions_slice_df.iloc[:,0:10].to_csv(f\"{output_path}/peaks_{split}_fold{fold}.bed\",sep=\"\\t\",header=False,index=False)\n",
    "    print(\"\\n\")\n",
    "\n",
    "from plotnine import *\n",
    "group_df[\"log_groupcounts\"]=np.log10(group_df[\"group_counts\"]+1)\n",
    "for fold in range(number_of_folds):\n",
    "    print(\"fold:\",fold)\n",
    "    plot = (ggplot(group_df,aes(\"log_groupcounts\",color=f\"fold{fold}\"))\n",
    "                    +stat_ecdf()\n",
    "                    +theme_classic()\n",
    "           )\n",
    "    plot.save(f'fold{fold}_counts_histogram_plot.png')"
   ]
  },
  {
   "cell_type": "code",
   "execution_count": null,
   "metadata": {},
   "outputs": [],
   "source": [
    "group_df"
   ]
  },
  {
   "cell_type": "code",
   "execution_count": 20,
   "metadata": {},
   "outputs": [
    {
     "name": "stdout",
     "output_type": "stream",
     "text": [
      "11586\n",
      "34819\n",
      "11642\n",
      "43517\n",
      "130146\n",
      "43446\n"
     ]
    }
   ],
   "source": [
    "%%bash\n",
    "bedtools intersect -a /mnt/lab_data2/vir/tf_chr_atlas/scripts/tf-atlas-pipeline/anvil/modeling/background_peaks_valid_fold0.bed -b /mnt/lab_data2/vir/tf_chr_atlas/scripts/tf-atlas-pipeline/anvil/modeling/peaks_valid_fold0.bed\n"
   ]
  },
  {
   "cell_type": "code",
   "execution_count": 43,
   "metadata": {},
   "outputs": [],
   "source": [
    "\n",
    "%%bash\n",
    "bedtools intersect -a /mnt/lab_data2/vir/tf_chr_atlas/scripts/tf-atlas-pipeline/anvil/modeling/peaks_test_fold0.bed -b /mnt/lab_data2/vir/tf_chr_atlas/scripts/tf-atlas-pipeline/anvil/modeling/peaks_valid_fold0.bed\n",
    "\n"
   ]
  },
  {
   "cell_type": "code",
   "execution_count": 44,
   "metadata": {},
   "outputs": [
    {
     "name": "stdout",
     "output_type": "stream",
     "text": [
      "fold0\n",
      "fold1\n",
      "fold2\n",
      "fold3\n",
      "fold4\n"
     ]
    }
   ],
   "source": [
    "%%bash\n",
    "for fold in {0..4}\n",
    "do\n",
    "echo \"fold${fold}\"\n",
    "bedtools intersect -a \"/mnt/lab_data2/vir/tf_chr_atlas/scripts/tf-atlas-pipeline/anvil/modeling/peaks_test_fold${fold}.bed\" -b \"/mnt/lab_data2/vir/tf_chr_atlas/scripts/tf-atlas-pipeline/anvil/modeling/peaks_train_fold${fold}.bed\"\n",
    "bedtools intersect -a \"/mnt/lab_data2/vir/tf_chr_atlas/scripts/tf-atlas-pipeline/anvil/modeling/background_peaks_test_fold${fold}.bed\" -b \"/mnt/lab_data2/vir/tf_chr_atlas/scripts/tf-atlas-pipeline/anvil/modeling/background_peaks_train_fold${fold}.bed\"\n",
    "bedtools intersect -a \"/mnt/lab_data2/vir/tf_chr_atlas/scripts/tf-atlas-pipeline/anvil/modeling/peaks_test_fold${fold}.bed\" -b \"/mnt/lab_data2/vir/tf_chr_atlas/scripts/tf-atlas-pipeline/anvil/modeling/peaks_valid_fold${fold}.bed\"\n",
    "bedtools intersect -a \"/mnt/lab_data2/vir/tf_chr_atlas/scripts/tf-atlas-pipeline/anvil/modeling/background_peaks_test_fold${fold}.bed\" -b \"/mnt/lab_data2/vir/tf_chr_atlas/scripts/tf-atlas-pipeline/anvil/modeling/background_peaks_valid_fold${fold}.bed\"\n",
    "bedtools intersect -a \"/mnt/lab_data2/vir/tf_chr_atlas/scripts/tf-atlas-pipeline/anvil/modeling/peaks_train_fold${fold}.bed\" -b \"/mnt/lab_data2/vir/tf_chr_atlas/scripts/tf-atlas-pipeline/anvil/modeling/peaks_valid_fold${fold}.bed\"\n",
    "bedtools intersect -a \"/mnt/lab_data2/vir/tf_chr_atlas/scripts/tf-atlas-pipeline/anvil/modeling/background_peaks_train_fold${fold}.bed\" -b \"/mnt/lab_data2/vir/tf_chr_atlas/scripts/tf-atlas-pipeline/anvil/modeling/background_peaks_valid_fold${fold}.bed\"\n",
    "done\n"
   ]
  },
  {
   "cell_type": "code",
   "execution_count": 73,
   "metadata": {},
   "outputs": [
    {
     "name": "stderr",
     "output_type": "stream",
     "text": [
      "IOPub data rate exceeded.\n",
      "The Jupyter server will temporarily stop sending output\n",
      "to the client in order to avoid crashing it.\n",
      "To change this limit, set the config variable\n",
      "`--ServerApp.iopub_data_rate_limit`.\n",
      "\n",
      "Current values:\n",
      "ServerApp.iopub_data_rate_limit=1000000.0 (bytes/sec)\n",
      "ServerApp.rate_limit_window=3.0 (secs)\n",
      "\n"
     ]
    }
   ],
   "source": [
    "%%bash\n",
    "for ((foldA = 0,foldB = 1 ; foldA <= 4,foldB <= 5 ; foldA++, foldB++))\n",
    "do\n",
    "    if [[ \"${foldB}\" == \"5\" ]]; then\n",
    "        echo \"${foldA},0\"\n",
    "        bedtools intersect -a \"/mnt/lab_data2/vir/tf_chr_atlas/scripts/tf-atlas-pipeline/anvil/modeling/peaks_train_fold${foldA}.bed\" -b \"/mnt/lab_data2/vir/tf_chr_atlas/scripts/tf-atlas-pipeline/anvil/modeling/peaks_train_fold0.bed\"\n",
    "    else\n",
    "        echo \"${foldA},${foldB}\"\n",
    "        bedtools intersect -a \"/mnt/lab_data2/vir/tf_chr_atlas/scripts/tf-atlas-pipeline/anvil/modeling/peaks_train_fold${foldA}.bed\" -b \"/mnt/lab_data2/vir/tf_chr_atlas/scripts/tf-atlas-pipeline/anvil/modeling/peaks_train_fold${foldB}.bed\"\n",
    "    fi\n",
    "done"
   ]
  },
  {
   "cell_type": "code",
   "execution_count": 78,
   "metadata": {},
   "outputs": [
    {
     "name": "stderr",
     "output_type": "stream",
     "text": [
      "IOPub data rate exceeded.\n",
      "The Jupyter server will temporarily stop sending output\n",
      "to the client in order to avoid crashing it.\n",
      "To change this limit, set the config variable\n",
      "`--ServerApp.iopub_data_rate_limit`.\n",
      "\n",
      "Current values:\n",
      "ServerApp.iopub_data_rate_limit=1000000.0 (bytes/sec)\n",
      "ServerApp.rate_limit_window=3.0 (secs)\n",
      "\n"
     ]
    }
   ],
   "source": [
    "%%bash\n",
    "for ((foldA = 0,foldB = 1 ; foldA <= 4,foldB <= 5 ; foldA++, foldB++))\n",
    "do\n",
    "    if [[ \"${foldB}\" == \"5\" ]]; then\n",
    "        echo \"${foldA},0\"\n",
    "        bedtools intersect -a \"/mnt/lab_data2/vir/tf_chr_atlas/scripts/tf-atlas-pipeline/anvil/modeling/background_peaks_train_fold${foldA}.bed\" -b \"/mnt/lab_data2/vir/tf_chr_atlas/scripts/tf-atlas-pipeline/anvil/modeling/background_peaks_train_fold0.bed\"\n",
    "    else\n",
    "        echo \"${foldA},${foldB}\"\n",
    "        bedtools intersect -a \"/mnt/lab_data2/vir/tf_chr_atlas/scripts/tf-atlas-pipeline/anvil/modeling/background_peaks_train_fold${foldA}.bed\" -b \"/mnt/lab_data2/vir/tf_chr_atlas/scripts/tf-atlas-pipeline/anvil/modeling/background_peaks_train_fold${foldB}.bed\"\n",
    "    fi\n",
    "done"
   ]
  },
  {
   "cell_type": "code",
   "execution_count": 50,
   "metadata": {},
   "outputs": [
    {
     "name": "stdout",
     "output_type": "stream",
     "text": [
      "\n",
      "0,1\n",
      "0,2\n",
      "0,3\n",
      "0,4\n",
      "1,0\n",
      "\n",
      "1,2\n",
      "1,3\n",
      "1,4\n",
      "2,0\n",
      "2,1\n",
      "\n",
      "2,3\n",
      "2,4\n",
      "3,0\n",
      "3,1\n",
      "3,2\n",
      "\n",
      "3,4\n",
      "4,0\n",
      "4,1\n",
      "4,2\n",
      "4,3\n",
      "\n"
     ]
    }
   ],
   "source": [
    "%%bash\n",
    "for ((foldA = 0; foldA <= 4; foldA++))\n",
    "do\n",
    "for ((foldB = 0; foldB <= 4; foldB++))\n",
    "do\n",
    "    if [[ \"${foldA}\" == \"${foldB}\" ]]; then\n",
    "        echo \"\"\n",
    "    else\n",
    "        echo \"${foldA},${foldB}\"\n",
    "        bedtools intersect -a \"/mnt/lab_data2/vir/tf_chr_atlas/scripts/tf-atlas-pipeline/anvil/modeling/peaks_valid_fold${foldA}.bed\" -b \"/mnt/lab_data2/vir/tf_chr_atlas/scripts/tf-atlas-pipeline/anvil/modeling/peaks_valid_fold${foldB}.bed\"\n",
    "        bedtools intersect -a \"/mnt/lab_data2/vir/tf_chr_atlas/scripts/tf-atlas-pipeline/anvil/modeling/background_peaks_valid_fold${foldA}.bed\" -b \"/mnt/lab_data2/vir/tf_chr_atlas/scripts/tf-atlas-pipeline/anvil/modeling/background_peaks_valid_fold${foldB}.bed\"\n",
    "        bedtools intersect -a \"/mnt/lab_data2/vir/tf_chr_atlas/scripts/tf-atlas-pipeline/anvil/modeling/peaks_test_fold${foldA}.bed\" -b \"/mnt/lab_data2/vir/tf_chr_atlas/scripts/tf-atlas-pipeline/anvil/modeling/peaks_test_fold${foldB}.bed\"\n",
    "        bedtools intersect -a \"/mnt/lab_data2/vir/tf_chr_atlas/scripts/tf-atlas-pipeline/anvil/modeling/background_peaks_test_fold${foldA}.bed\" -b \"/mnt/lab_data2/vir/tf_chr_atlas/scripts/tf-atlas-pipeline/anvil/modeling/background_peaks_test_fold${foldB}.bed\"\n",
    "    fi\n",
    "done\n",
    "done"
   ]
  },
  {
   "cell_type": "code",
   "execution_count": 75,
   "metadata": {},
   "outputs": [
    {
     "name": "stdout",
     "output_type": "stream",
     "text": [
      "0,1\n",
      "1,2\n",
      "2,3\n",
      "3,4\n",
      "4,0\n"
     ]
    }
   ],
   "source": [
    "# %%bash\n",
    "# for ((foldA = 0,foldB = 1 ; foldA <= 4,foldB <= 5 ; foldA++, foldB++))\n",
    "# do\n",
    "#     if [[ \"${foldB}\" == \"5\" ]]; then\n",
    "#         echo \"${foldA},0\"\n",
    "#         bedtools intersect -a \"/mnt/lab_data2/vir/tf_chr_atlas/scripts/tf-atlas-pipeline/anvil/modeling/background_peaks_valid_fold${foldA}.bed\" -b \"/mnt/lab_data2/vir/tf_chr_atlas/scripts/tf-atlas-pipeline/anvil/modeling/background_peaks_valid_fold0.bed\"\n",
    "#     else\n",
    "#         echo \"${foldA},${foldB}\"\n",
    "#         bedtools intersect -a \"/mnt/lab_data2/vir/tf_chr_atlas/scripts/tf-atlas-pipeline/anvil/modeling/background_peaks_valid_fold${foldA}.bed\" -b \"/mnt/lab_data2/vir/tf_chr_atlas/scripts/tf-atlas-pipeline/anvil/modeling/background_peaks_valid_fold${foldB}.bed\"\n",
    "#     fi\n",
    "# done"
   ]
  },
  {
   "cell_type": "code",
   "execution_count": 76,
   "metadata": {},
   "outputs": [
    {
     "name": "stdout",
     "output_type": "stream",
     "text": [
      "0,1\n",
      "1,2\n",
      "2,3\n",
      "3,4\n",
      "4,0\n"
     ]
    }
   ],
   "source": [
    "# %%bash\n",
    "# for ((foldA = 0,foldB = 1 ; foldA <= 4,foldB <= 5 ; foldA++, foldB++))\n",
    "# do\n",
    "#     if [[ \"${foldB}\" == \"5\" ]]; then\n",
    "#         echo \"${foldA},0\"\n",
    "#         bedtools intersect -a \"/mnt/lab_data2/vir/tf_chr_atlas/scripts/tf-atlas-pipeline/anvil/modeling/background_peaks_test_fold${foldA}.bed\" -b \"/mnt/lab_data2/vir/tf_chr_atlas/scripts/tf-atlas-pipeline/anvil/modeling/background_peaks_test_fold0.bed\"\n",
    "#     else\n",
    "#         echo \"${foldA},${foldB}\"\n",
    "#         bedtools intersect -a \"/mnt/lab_data2/vir/tf_chr_atlas/scripts/tf-atlas-pipeline/anvil/modeling/background_peaks_test_fold${foldA}.bed\" -b \"/mnt/lab_data2/vir/tf_chr_atlas/scripts/tf-atlas-pipeline/anvil/modeling/background_peaks_test_fold${foldB}.bed\"\n",
    "#     fi\n",
    "# done"
   ]
  },
  {
   "cell_type": "code",
   "execution_count": 77,
   "metadata": {},
   "outputs": [
    {
     "name": "stdout",
     "output_type": "stream",
     "text": [
      "0,1\n",
      "1,2\n",
      "2,3\n",
      "3,4\n",
      "4,0\n"
     ]
    }
   ],
   "source": [
    "# %%bash\n",
    "# for ((foldA = 0,foldB = 1 ; foldA <= 4,foldB <= 5 ; foldA++, foldB++))\n",
    "# do\n",
    "#     if [[ \"${foldB}\" == \"5\" ]]; then\n",
    "#         echo \"${foldA},0\"\n",
    "#         bedtools intersect -a \"/mnt/lab_data2/vir/tf_chr_atlas/scripts/tf-atlas-pipeline/anvil/modeling/peaks_test_fold${foldA}.bed\" -b \"/mnt/lab_data2/vir/tf_chr_atlas/scripts/tf-atlas-pipeline/anvil/modeling/peaks_test_fold0.bed\"\n",
    "#     else\n",
    "#         echo \"${foldA},${foldB}\"\n",
    "#         bedtools intersect -a \"/mnt/lab_data2/vir/tf_chr_atlas/scripts/tf-atlas-pipeline/anvil/modeling/peaks_test_fold${foldA}.bed\" -b \"/mnt/lab_data2/vir/tf_chr_atlas/scripts/tf-atlas-pipeline/anvil/modeling/peaks_test_fold${foldB}.bed\"\n",
    "#     fi\n",
    "# done"
   ]
  },
  {
   "cell_type": "markdown",
   "metadata": {},
   "source": [
    "# Fake peak-wise split based on chromosome"
   ]
  },
  {
   "cell_type": "code",
   "execution_count": 39,
   "metadata": {},
   "outputs": [],
   "source": [
    "from itertools import count\n",
    "import json\n",
    "import argparse\n",
    "import os\n",
    "import random\n",
    "import pandas as pd\n",
    "import numpy as np\n",
    "import pyBigWig\n",
    "\n",
    "NARROWPEAK_SCHEMA = [\"chr\", \"start\", \"end\", \"1\", \"2\", \"3\", \"4\", \"5\", \"6\", \"summit\"]\n",
    "\n",
    "peak_regions_df = pd.read_csv(\"/mnt/lab_data2/vir/tf_chr_atlas/temp/peak_wise/Hughes_GR_models_ZNF134/peaks_inliers.bed.gz\", sep='\\t', names=NARROWPEAK_SCHEMA)\n",
    "peak_regions_df['region']='peak'\n",
    "peak_regions_df['ind']=range(len(peak_regions_df))\n",
    "nonpeak_regions_df = pd.read_csv(\"/mnt/lab_data2/vir/tf_chr_atlas/temp/peak_wise/Hughes_GR_models_ZNF134/gc_neg_only.bed.gz\", sep='\\t', names=NARROWPEAK_SCHEMA)\n",
    "nonpeak_regions_df['region']='nonpeak'\n",
    "nonpeak_regions_df['ind']=range(len(nonpeak_regions_df))\n",
    "\n",
    "\n",
    "all_regions_df = pd.concat([peak_regions_df,nonpeak_regions_df])\n",
    "all_regions_df['pos']=all_regions_df['start']+all_regions_df['summit']\n",
    "all_regions_df.sort_values(by=['chr', 'pos'], inplace=True)\n",
    "all_regions_df=all_regions_df.reset_index(drop=True)"
   ]
  },
  {
   "cell_type": "code",
   "execution_count": 40,
   "metadata": {},
   "outputs": [
    {
     "name": "stdout",
     "output_type": "stream",
     "text": [
      "train ['chr11', 'chr13', 'chrM', 'chr22', 'chr2', 'chr5', 'chr19', 'chr3', 'chr7', 'chr14', 'chr18', 'chr20', 'chr16', 'chr21', 'chr17', 'chrX', 'chrY', 'chr4', 'chr6', 'chr15', 'chr12', 'chr9']\n",
      "valid ['chr10', 'chr8']\n",
      "test ['chr1']\n"
     ]
    },
    {
     "data": {
      "text/plain": [
       "0       chr12\n",
       "1       chr14\n",
       "2        chr4\n",
       "3       chr16\n",
       "4       chr11\n",
       "        ...  \n",
       "2788    chr12\n",
       "2789    chr15\n",
       "2790     chrX\n",
       "2791     chr6\n",
       "2792     chr5\n",
       "Name: chr, Length: 2793, dtype: object"
      ]
     },
     "execution_count": 40,
     "metadata": {},
     "output_type": "execute_result"
    }
   ],
   "source": [
    "splits = {\"train\": [\"chr11\", \"chr13\", \"chrM\", \"chr22\", \"chr2\", \"chr5\", \"chr19\", \"chr3\", \"chr7\", \"chr14\", \"chr18\", \"chr20\", \"chr16\", \"chr21\", \"chr17\", \"chrX\", \"chrY\", \"chr4\", \"chr6\", \"chr15\", \"chr12\", \"chr9\"], \"valid\": [\"chr10\", \"chr8\"], \"test\": [\"chr1\"]}\n",
    "for split_key in splits:\n",
    "    print(split_key,splits[split_key])\n",
    "peak_regions_df['chr']"
   ]
  },
  {
   "cell_type": "code",
   "execution_count": 42,
   "metadata": {},
   "outputs": [
    {
     "name": "stdout",
     "output_type": "stream",
     "text": [
      "test ['chr11', 'chr13', 'chrM', 'chr22', 'chr2', 'chr5', 'chr19', 'chr3', 'chr7', 'chr14', 'chr18', 'chr20', 'chr16', 'chr21', 'chr17', 'chrX', 'chrY', 'chr4', 'chr6', 'chr15', 'chr12', 'chr9']\n",
      "test ['chr10', 'chr8']\n",
      "test ['chr1']\n"
     ]
    }
   ],
   "source": [
    "fold = 0\n",
    "for split in splits:\n",
    "    print(split_key,splits[split])\n",
    "    output_path=\"/mnt/lab_data2/vir/tf_chr_atlas/temp/peak_wise/Hughes_GR_models_ZNF134/fake_peak_wise_actually_chrom_wise\"\n",
    "    f = open(f\"{output_path}/loci_{split}_indices_fold{fold}.txt\", \"w\")\n",
    "    peak_indices = list(np.where(peak_regions_df['chr'].isin(splits[split]))[0])\n",
    "    nonpeak_indices = list(np.where(nonpeak_regions_df['chr'].isin(splits[split]))[0])\n",
    "    for items in peak_indices:\n",
    "        f.writelines(str(items)+'\\n')\n",
    "    f.close()\n",
    "    f = open(f\"{output_path}/background_{split}_indices_fold{fold}.txt\", \"w\")\n",
    "    for items in nonpeak_indices:\n",
    "        f.writelines(str(items)+'\\n')\n",
    "    f.close()\n",
    "    nonpeak_regions_df.iloc[nonpeak_indices,0:10].to_csv(f\"{output_path}/background_peaks_{split}_fold{fold}.bed\",sep=\"\\t\",header=False,index=False)\n",
    "    peak_regions_df.iloc[peak_indices,0:10].to_csv(f\"{output_path}/peaks_{split}_fold{fold}.bed\",sep=\"\\t\",header=False,index=False)\n",
    "\n"
   ]
  },
  {
   "cell_type": "code",
   "execution_count": null,
   "metadata": {},
   "outputs": [],
   "source": []
  }
 ],
 "metadata": {
  "kernelspec": {
   "display_name": "basepairmodels_latest",
   "language": "python",
   "name": "basepairmodels_latest"
  },
  "language_info": {
   "codemirror_mode": {
    "name": "ipython",
    "version": 3
   },
   "file_extension": ".py",
   "mimetype": "text/x-python",
   "name": "python",
   "nbconvert_exporter": "python",
   "pygments_lexer": "ipython3",
   "version": "3.7.0"
  }
 },
 "nbformat": 4,
 "nbformat_minor": 4
}

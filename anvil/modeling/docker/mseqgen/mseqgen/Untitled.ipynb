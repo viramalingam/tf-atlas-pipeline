{
 "cells": [
  {
   "cell_type": "code",
   "execution_count": 1,
   "id": "caccbb68-1b65-40d0-bba0-9a122176e7a8",
   "metadata": {},
   "outputs": [],
   "source": [
    "import numpy as np"
   ]
  },
  {
   "cell_type": "code",
   "execution_count": 24,
   "id": "0b93b3fd-b0ba-488e-9ec6-5a11f9f3a979",
   "metadata": {},
   "outputs": [],
   "source": [
    "arr = np.zeros((3,1000,2))"
   ]
  },
  {
   "cell_type": "code",
   "execution_count": 23,
   "id": "3b721653-aa7d-4c1b-a058-181e79c2ddfd",
   "metadata": {},
   "outputs": [
    {
     "ename": "IndexError",
     "evalue": "index 2 is out of bounds for axis 0 with size 2",
     "output_type": "error",
     "traceback": [
      "\u001b[0;31m---------------------------------------------------------------------------\u001b[0m",
      "\u001b[0;31mIndexError\u001b[0m                                Traceback (most recent call last)",
      "\u001b[0;32m/tmp/ipykernel_1427/937716004.py\u001b[0m in \u001b[0;36m<module>\u001b[0;34m\u001b[0m\n\u001b[0;32m----> 1\u001b[0;31m \u001b[0marr\u001b[0m\u001b[0;34m[\u001b[0m\u001b[0;36m2\u001b[0m\u001b[0;34m,\u001b[0m\u001b[0;34m:\u001b[0m\u001b[0;34m,\u001b[0m\u001b[0;34m:\u001b[0m\u001b[0;34m]\u001b[0m\u001b[0;34m.\u001b[0m\u001b[0mshape\u001b[0m\u001b[0;34m\u001b[0m\u001b[0;34m\u001b[0m\u001b[0m\n\u001b[0m",
      "\u001b[0;31mIndexError\u001b[0m: index 2 is out of bounds for axis 0 with size 2"
     ]
    }
   ],
   "source": [
    "arr[2,:,:].shape"
   ]
  },
  {
   "cell_type": "code",
   "execution_count": 27,
   "id": "453997a4-885c-4377-9d5b-692097fcb874",
   "metadata": {},
   "outputs": [
    {
     "data": {
      "text/plain": [
       "(3, 1000, 1, 2)"
      ]
     },
     "execution_count": 27,
     "metadata": {},
     "output_type": "execute_result"
    }
   ],
   "source": [
    "arr.reshape(\n",
    "            (arr.shape[0], arr.shape[1], -1, 2)).shape"
   ]
  },
  {
   "cell_type": "code",
   "execution_count": 9,
   "id": "162d8090-886d-4021-b132-19eb56d36d14",
   "metadata": {},
   "outputs": [
    {
     "data": {
      "text/plain": [
       "2"
      ]
     },
     "execution_count": 9,
     "metadata": {},
     "output_type": "execute_result"
    }
   ],
   "source": [
    "11 % 3"
   ]
  },
  {
   "cell_type": "code",
   "execution_count": 10,
   "id": "358233eb-4e82-441e-a0e5-7fdabde62b4f",
   "metadata": {},
   "outputs": [],
   "source": [
    "for bias_file_idx in range(len([])):\n",
    "    print(bias_file_idx)"
   ]
  },
  {
   "cell_type": "code",
   "execution_count": 11,
   "id": "2ab66faf-080f-4571-8570-a7c0e1116252",
   "metadata": {},
   "outputs": [
    {
     "data": {
      "text/plain": [
       "(3,)"
      ]
     },
     "execution_count": 11,
     "metadata": {},
     "output_type": "execute_result"
    }
   ],
   "source": [
    "import numpy as np\n",
    "np.array([1,1,2]).reshape((1,-1,1)).reshape((-1,)).shape"
   ]
  },
  {
   "cell_type": "code",
   "execution_count": 12,
   "id": "65781684-b34b-4105-be59-4b1b1d7ffe58",
   "metadata": {},
   "outputs": [
    {
     "data": {
      "text/plain": [
       "(1, 3, 1)"
      ]
     },
     "execution_count": 12,
     "metadata": {},
     "output_type": "execute_result"
    }
   ],
   "source": [
    "np.array([1,1,2]).reshape((1,-1,1)).shape"
   ]
  },
  {
   "cell_type": "code",
   "execution_count": 3,
   "id": "494f5bec-bcb0-40f8-9536-227d6d7dc484",
   "metadata": {},
   "outputs": [
    {
     "data": {
      "text/plain": [
       "1"
      ]
     },
     "execution_count": 3,
     "metadata": {},
     "output_type": "execute_result"
    }
   ],
   "source": [
    "int(not(0))"
   ]
  },
  {
   "cell_type": "code",
   "execution_count": null,
   "id": "14cb9bc5-67ce-441f-9d45-b945ae1def33",
   "metadata": {},
   "outputs": [],
   "source": []
  }
 ],
 "metadata": {
  "kernelspec": {
   "display_name": "encode_upload",
   "language": "python",
   "name": "encode_upload"
  },
  "language_info": {
   "codemirror_mode": {
    "name": "ipython",
    "version": 3
   },
   "file_extension": ".py",
   "mimetype": "text/x-python",
   "name": "python",
   "nbconvert_exporter": "python",
   "pygments_lexer": "ipython3",
   "version": "3.7.16"
  }
 },
 "nbformat": 4,
 "nbformat_minor": 5
}

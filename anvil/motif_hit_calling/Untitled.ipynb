{
 "cells": [
  {
   "cell_type": "code",
   "execution_count": 1,
   "id": "109f3998-9e01-44e7-9d6e-644937819bf8",
   "metadata": {},
   "outputs": [],
   "source": [
    "import polars as pl\n"
   ]
  },
  {
   "cell_type": "code",
   "execution_count": 2,
   "id": "8a8eec6a-a7ca-40bb-98b3-cb8e55aa4dd3",
   "metadata": {},
   "outputs": [],
   "source": [
    "NARROWPEAK_SCHEMA = [\"chr\", \"peak_start\", \"peak_end\", \"peak_name\", \"peak_score\", \n",
    "                     \"peak_strand\", \"peak_signal\", \"peak_pval\", \"peak_qval\", \"peak_summit\"]\n",
    "NARROWPEAK_DTYPES = [pl.Utf8, pl.UInt32, pl.UInt32, pl.Utf8, pl.UInt32, \n",
    "                     pl.Utf8, pl.Float32, pl.Float32, pl.Float32, pl.UInt32] \n"
   ]
  },
  {
   "cell_type": "code",
   "execution_count": 3,
   "id": "845a3f8e-c054-4305-85df-240e8c57dff8",
   "metadata": {},
   "outputs": [
    {
     "data": {
      "text/html": [
       "<i>naive plan: (run <b>LazyFrame.explain(optimized=True)</b> to see the optimized plan)</i>\n",
       "    <p></p>\n",
       "    <div><p></p>  CSV SCAN /mnt/lab_data2/vir/tf_chr_atlas/temp/peaks.bed<p></p>  PROJECT */10 COLUMNS</div>"
      ],
      "text/plain": [
       "<LazyFrame [10 cols, {\"chr\": Utf8 … \"peak_summit\": UInt32}] at 0x7F635136C6D0>"
      ]
     },
     "execution_count": 3,
     "metadata": {},
     "output_type": "execute_result"
    }
   ],
   "source": [
    "pl.scan_csv(\"/mnt/lab_data2/vir/tf_chr_atlas/temp/peaks.bed\", has_header=False, new_columns=NARROWPEAK_SCHEMA, \n",
    "                    separator='\\t', quote_char=None, dtypes=NARROWPEAK_DTYPES)"
   ]
  },
  {
   "cell_type": "code",
   "execution_count": null,
   "id": "5670cf4f-17dd-4fe1-8f8a-5082bcd26724",
   "metadata": {},
   "outputs": [],
   "source": []
  }
 ],
 "metadata": {
  "kernelspec": {
   "display_name": "bpnet-refactor",
   "language": "python",
   "name": "bpnet-refactor"
  },
  "language_info": {
   "codemirror_mode": {
    "name": "ipython",
    "version": 3
   },
   "file_extension": ".py",
   "mimetype": "text/x-python",
   "name": "python",
   "nbconvert_exporter": "python",
   "pygments_lexer": "ipython3",
   "version": "3.7.16"
  }
 },
 "nbformat": 4,
 "nbformat_minor": 5
}

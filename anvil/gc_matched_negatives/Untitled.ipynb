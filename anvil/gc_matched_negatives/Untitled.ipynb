{
 "cells": [
  {
   "cell_type": "code",
   "execution_count": 1,
   "id": "a7ac5db5-da5e-4d40-a253-186c3f84a454",
   "metadata": {},
   "outputs": [],
   "source": [
    "import random"
   ]
  },
  {
   "cell_type": "code",
   "execution_count": 2,
   "id": "80b221a1-62d7-4c70-95df-9e2cdf04a3fe",
   "metadata": {},
   "outputs": [],
   "source": [
    "random.seed(1)"
   ]
  },
  {
   "cell_type": "code",
   "execution_count": 3,
   "id": "698b1792-f263-4c7c-8c5a-72c920c3bed1",
   "metadata": {},
   "outputs": [
    {
     "data": {
      "text/plain": [
       "2"
      ]
     },
     "execution_count": 3,
     "metadata": {},
     "output_type": "execute_result"
    }
   ],
   "source": [
    "random.randint(0,12)"
   ]
  },
  {
   "cell_type": "code",
   "execution_count": 4,
   "id": "e7c75e65-1c19-454c-9400-62aa17530160",
   "metadata": {},
   "outputs": [
    {
     "data": {
      "text/plain": [
       "9"
      ]
     },
     "execution_count": 4,
     "metadata": {},
     "output_type": "execute_result"
    }
   ],
   "source": [
    "random.randint(0,12)"
   ]
  },
  {
   "cell_type": "code",
   "execution_count": 5,
   "id": "9043b264-8490-49f3-9ba4-2ea2b09d5ff6",
   "metadata": {},
   "outputs": [
    {
     "data": {
      "text/plain": [
       "12"
      ]
     },
     "execution_count": 5,
     "metadata": {},
     "output_type": "execute_result"
    }
   ],
   "source": [
    "random.randint(0,12)"
   ]
  },
  {
   "cell_type": "code",
   "execution_count": 6,
   "id": "6c1af1bc-254a-40fd-9e07-58b4b7d49063",
   "metadata": {},
   "outputs": [
    {
     "data": {
      "text/plain": [
       "12"
      ]
     },
     "execution_count": 6,
     "metadata": {},
     "output_type": "execute_result"
    }
   ],
   "source": [
    "random.randint(0,12)"
   ]
  },
  {
   "cell_type": "code",
   "execution_count": 7,
   "id": "ef200ff0-49c1-4f38-81a0-11a10cb7ac74",
   "metadata": {},
   "outputs": [
    {
     "data": {
      "text/plain": [
       "1"
      ]
     },
     "execution_count": 7,
     "metadata": {},
     "output_type": "execute_result"
    }
   ],
   "source": [
    "random.randint(0,12)"
   ]
  },
  {
   "cell_type": "code",
   "execution_count": null,
   "id": "5ff12978-8075-40c8-aa4f-7f06c6e49939",
   "metadata": {},
   "outputs": [],
   "source": []
  }
 ],
 "metadata": {
  "kernelspec": {
   "display_name": "encode_upload",
   "language": "python",
   "name": "encode_upload"
  },
  "language_info": {
   "codemirror_mode": {
    "name": "ipython",
    "version": 3
   },
   "file_extension": ".py",
   "mimetype": "text/x-python",
   "name": "python",
   "nbconvert_exporter": "python",
   "pygments_lexer": "ipython3",
   "version": "3.7.16"
  }
 },
 "nbformat": 4,
 "nbformat_minor": 5
}
